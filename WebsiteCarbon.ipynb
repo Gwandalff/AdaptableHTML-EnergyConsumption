{
  "nbformat": 4,
  "nbformat_minor": 0,
  "metadata": {
    "colab": {
      "name": "WebsiteCarbon.ipynb",
      "provenance": [],
      "collapsed_sections": []
    },
    "kernelspec": {
      "display_name": "Python 3",
      "language": "python",
      "name": "python3"
    },
    "language_info": {
      "codemirror_mode": {
        "name": "ipython",
        "version": 3
      },
      "file_extension": ".py",
      "mimetype": "text/x-python",
      "name": "python",
      "nbconvert_exporter": "python",
      "pygments_lexer": "ipython3",
      "version": "3.7.4"
    }
  },
  "cells": [
    {
      "cell_type": "markdown",
      "metadata": {
        "id": "Yk8S29I6E0sf",
        "colab_type": "text"
      },
      "source": [
        "# Dynamically Adaptable Virtual Machines for Sustainable Websites\n",
        "\n",
        "This notebook aim at providing the analysis process of our paper\n",
        "\n",
        "## Imports"
      ]
    },
    {
      "cell_type": "code",
      "metadata": {
        "colab_type": "code",
        "id": "F4OUiwG1wtvn",
        "colab": {}
      },
      "source": [
        "import json \n",
        "import glob\n",
        "import pandas as pd\n",
        "import numpy as np\n",
        "import seaborn as sns\n",
        "import matplotlib.pyplot as plt\n",
        "from scipy.stats.mstats import gmean\n",
        "from math import sqrt\n",
        "import scipy.stats as stats"
      ],
      "execution_count": null,
      "outputs": []
    },
    {
      "cell_type": "markdown",
      "metadata": {
        "colab_type": "text",
        "id": "6H5f0fcxxiFf"
      },
      "source": [
        "## Website Carbon\n",
        "\n",
        "This script aim to provide the energy consumption and carbon impact of website requests."
      ]
    },
    {
      "cell_type": "markdown",
      "metadata": {
        "colab_type": "text",
        "id": "MS-QfxkVx-IK"
      },
      "source": [
        "### Constants"
      ]
    },
    {
      "cell_type": "code",
      "metadata": {
        "colab_type": "code",
        "id": "-kdZbI5xwxpB",
        "colab": {}
      },
      "source": [
        "# Path to the folder containing HAR files\n",
        "HAR_FOLDER = \"./Data_Transfer/\"\n",
        "\n",
        "# Algorithm constants\n",
        "KWG_PER_GB = 1.805\n",
        "KWH_PER_BYTE = KWG_PER_GB / 1073741824\n",
        "RETURNING_VISITOR_PERCENTAGE = 0.75\n",
        "FIRST_TIME_VIEWING_PERCENTAGE = 0.25\n",
        "PERCENTAGE_OF_DATA_LOADED_ON_SUBSEQUENT_LOAD = 0.02\n",
        "CARBON_PER_KWG_GRID = 475\n",
        "CARBON_PER_KWG_RENEWABLE = 33.4\n",
        "PERCENTAGE_OF_ENERGY_IN_DATACENTER = 0.1008\n",
        "PERCENTAGE_OF_ENERGY_IN_TRANSMISSION_AND_END_USER = 0.8992\n",
        "CO2_GRAMS_TO_LITRES = 0.5562\n",
        "\n",
        "# Data access constants\n",
        "NORMAL = 0\n",
        "ADAPTED = 1"
      ],
      "execution_count": null,
      "outputs": []
    },
    {
      "cell_type": "markdown",
      "metadata": {
        "colab_type": "text",
        "id": "vgtlUd79yTgs"
      },
      "source": [
        "### Functions\n",
        "\n",
        "adjustDataTranfert : calculate the average transfert size considering caching capacity of web browser\n",
        "\n",
        "energyConsumption : calculate the energy consumption from the tranfert size\n",
        "\n",
        "getCo2Grid : calculate the equivalent CO2 when using a classic host\n",
        "\n",
        "getCo2Renewable : calculate the equivalent CO2 when using a green host\n",
        "\n",
        "co2ToLitres : convert CO2 mass to volume\n",
        "\n",
        "getStatistics : aggregate previous statistics\n",
        "\n",
        "cleanerThan : compare to other sites"
      ]
    },
    {
      "cell_type": "code",
      "metadata": {
        "colab_type": "code",
        "id": "rDQZlD2Kw1N0",
        "colab": {}
      },
      "source": [
        "def adjustDataTransfer(val): \n",
        "    out =  val * RETURNING_VISITOR_PERCENTAGE \n",
        "    out += val * PERCENTAGE_OF_DATA_LOADED_ON_SUBSEQUENT_LOAD * FIRST_TIME_VIEWING_PERCENTAGE\n",
        "    return out"
      ],
      "execution_count": null,
      "outputs": []
    },
    {
      "cell_type": "code",
      "metadata": {
        "colab_type": "code",
        "id": "CHgksoUzw1WT",
        "colab": {}
      },
      "source": [
        "def energyConsumption(bytes): \n",
        "    return bytes * KWH_PER_BYTE;"
      ],
      "execution_count": null,
      "outputs": []
    },
    {
      "cell_type": "code",
      "metadata": {
        "colab_type": "code",
        "id": "ZgYd2B9vw1ZJ",
        "colab": {}
      },
      "source": [
        "def getCo2Grid(energy):\n",
        "    return energy * CARBON_PER_KWG_GRID;"
      ],
      "execution_count": null,
      "outputs": []
    },
    {
      "cell_type": "code",
      "metadata": {
        "colab_type": "code",
        "id": "RdcFpWrsw1cN",
        "colab": {}
      },
      "source": [
        "def getCo2Renewable(energy):\n",
        "    out =  energy * PERCENTAGE_OF_ENERGY_IN_DATACENTER * CARBON_PER_KWG_RENEWABLE\n",
        "    out += energy * PERCENTAGE_OF_ENERGY_IN_TRANSMISSION_AND_END_USER * CARBON_PER_KWG_GRID\n",
        "    return out"
      ],
      "execution_count": null,
      "outputs": []
    },
    {
      "cell_type": "code",
      "metadata": {
        "colab_type": "code",
        "id": "SDxhxliMw1fL",
        "colab": {}
      },
      "source": [
        "def co2ToLitres(co2):\n",
        "    return co2 * CO2_GRAMS_TO_LITRES;"
      ],
      "execution_count": null,
      "outputs": []
    },
    {
      "cell_type": "code",
      "metadata": {
        "colab_type": "code",
        "id": "PEcZkvJew1iV",
        "colab": {}
      },
      "source": [
        "def getStatistics(bytes):\n",
        "    bytesAdjusted = adjustDataTransfer(bytes);\n",
        "    energy = energyConsumption(bytesAdjusted);\n",
        "    co2Grid = getCo2Grid(energy);\n",
        "    co2Renewable = getCo2Renewable(energy);\n",
        "\n",
        "    return {\n",
        "        'adjustedBytes' : bytesAdjusted,\n",
        "        'energy' : energy,\n",
        "        'co2' : {\n",
        "            'grid' : {\n",
        "                'grams' : co2Grid,\n",
        "                'litres': co2ToLitres(co2Grid)\n",
        "            },\n",
        "            'renewable' : {\n",
        "                'grams' : co2Renewable,\n",
        "                'litres' : co2ToLitres(co2Renewable)\n",
        "            }\n",
        "        }\n",
        "    }"
      ],
      "execution_count": null,
      "outputs": []
    },
    {
      "cell_type": "code",
      "metadata": {
        "colab_type": "code",
        "id": "GGxXra40w1lS",
        "colab": {}
      },
      "source": [
        "def cleanerThan(co2):\n",
        "    # This array needs to be updated periodically with new data. This was\n",
        "    # originally calculated with a database query but that was too slow at\n",
        "    # scale. We can look in to writing a cron job that will generate and export\n",
        "    # from the database once a month, that is then loaded in this file.\n",
        "\n",
        "    # This array was last generated with rankings/index.php on 27/01/2020\n",
        "    percentiles = [0.00126957622871866,0.004035396817140881,0.012595561048805604,0.023304715095553624,0.036438786824583,0.050362397616329,0.064014899640461,0.077739052678226,0.092126836186624,0.10757047217165,0.125027739890344,0.140696302455872,0.15929047315768,0.177734818869488,0.19581439489964,0.21422507361825607,0.232736823359142,0.246082174332492,0.264348156430992,0.28306902111392,0.30180466482882,0.320295382181204,0.33950686554985604,0.360111566931774,0.38114308483189,0.40185357017186396,0.42035354145420606,0.4393550630164101,0.458541453493762,0.47918906703882,0.499654077413412,0.521285635156174,0.5405494875603221,0.56161428648152,0.58238456980151,0.604316363860106,0.6256429617179278,0.6478269528228661,0.6691073942929641,0.68867154881184,0.7103787320465419,0.7331362414675519,0.7562483364936439,0.780892842691506,0.80396830015467,0.8269877794821401,0.85060546199698,0.874387816802448,0.899691291111552,0.92324242726303,0.9511826145960923,0.976586133398462,1.002258239346,1.02822903453074,1.0566669431626,1.08448123862022,1.1130571798008,1.1446436812039398,1.17548103245766,1.2075157831423,1.2419762271574795,1.27780212823068,1.31343697309996,1.3535322129548801,1.3963404885134,1.43538821676594,1.4786819721653202,1.52287253339568,1.5710404823845998,1.6176354301871,1.6627899659050596,1.71503331661196,1.7731704594157403,1.8271314036959998,1.8888232850004,1.9514501162933802,2.01843049142384,2.08929918752446,2.1680425684300615,2.2538809089543,2.347435716407921,2.44446281762258,2.551568006854039,2.6716183180923796,2.8030676779506,2.947526052684458,3.1029734241542397,3.2801577012624605,3.4659335564053406,3.6858566410374,3.9539822299055203,4.2833358140900835,4.686514950833381,5.167897618200399,5.7413021838327,6.52500051792535,7.628926245040858,9.114465674521588,12.30185529895519,92.584834950345]\n",
        "\n",
        "    for i in range(0, 100):\n",
        "        value = percentiles[i]\n",
        "        if(co2 < value):\n",
        "            return (100 - i)\n",
        "    return 0"
      ],
      "execution_count": null,
      "outputs": []
    },
    {
      "cell_type": "code",
      "metadata": {
        "colab_type": "code",
        "id": "_Mn0-1CQ6UTz",
        "colab": {}
      },
      "source": [
        "def printInfo(bytesNb):\n",
        "  stats = getStatistics(bytesNb)\n",
        "  energy = stats[\"energy\"]\n",
        "  grams = stats[\"co2\"][\"grid\"][\"grams\"]\n",
        "  greenerThan = cleanerThan(grams)\n",
        "  if(greenerThan > 50):\n",
        "      print(\"\\033[1;32;48mThis page is cleaner than \" + str(greenerThan) + \"% of web pages tested\\033[00m\")\n",
        "  else:\n",
        "      print(\"\\033[1;31;48mThis page is dirtier than \" + str(99-greenerThan) + \"% of web pages tested\\033[00m\")\n",
        "  print(\"\\033[01m\"+str(round(grams,3)) + \"g of CO2\\033[00m is produced every time someone visits this web page (\"+str(round(energy,4))+\" KWH)\")"
      ],
      "execution_count": null,
      "outputs": []
    },
    {
      "cell_type": "markdown",
      "metadata": {
        "colab_type": "text",
        "id": "IezqIwUHz3RE"
      },
      "source": [
        "### Data\n",
        "\n",
        "Build the datastructure from the HAR files"
      ]
    },
    {
      "cell_type": "code",
      "metadata": {
        "colab_type": "code",
        "id": "_My6F2BPw1n7",
        "colab": {},
        "outputId": "b0995c0f-0fd6-463b-d661-130a826a9551"
      },
      "source": [
        "HAR_FILES = glob.glob(HAR_FOLDER+\"*.har\")\n",
        "\n",
        "data = []\n",
        "\n",
        "for HAR_FILE in HAR_FILES:\n",
        "    normal = open(HAR_FILE, \"r\")\n",
        "    adapted = open(HAR_FILE+\".adapted\", \"r\")\n",
        "    if normal.mode == 'r' and adapted.mode == 'r':\n",
        "        contents = normal.read()\n",
        "        jsonObj = json.loads(contents)\n",
        "        normal_bytes = 0\n",
        "        for r in jsonObj[\"log\"][\"entries\"]:\n",
        "            normal_bytes += r[\"response\"][\"bodySize\"]\n",
        "\n",
        "        contents = adapted.read()\n",
        "        jsonObj = json.loads(contents)\n",
        "        adapted_bytes = 0\n",
        "        for r in jsonObj[\"log\"][\"entries\"]:\n",
        "            adapted_bytes += r[\"response\"][\"bodySize\"]\n",
        "      \n",
        "        entry = {\n",
        "            \"name\": HAR_FILE, \n",
        "            \"transferSizes\" : [normal_bytes, adapted_bytes]\n",
        "        }\n",
        "        data.append(entry)\n",
        "      "
      ],
      "execution_count": null,
      "outputs": [
        {
          "output_type": "execute_result",
          "data": {
            "text/plain": [
              "[{'name': './Data_Transfer/y2mate.har', 'transferSizes': [135695, 196390]},\n",
              " {'name': './Data_Transfer/genius.har', 'transferSizes': [1712809, 127458]},\n",
              " {'name': './Data_Transfer/britannica.har',\n",
              "  'transferSizes': [1198040, 212265]},\n",
              " {'name': './Data_Transfer/spanishdict.har',\n",
              "  'transferSizes': [475137, 166556]},\n",
              " {'name': './Data_Transfer/dailymail.har', 'transferSizes': [6342091, 367507]},\n",
              " {'name': './Data_Transfer/premierleague.har',\n",
              "  'transferSizes': [14093044, 7311733]},\n",
              " {'name': './Data_Transfer/espncricinfo.har',\n",
              "  'transferSizes': [2427374, 766963]},\n",
              " {'name': './Data_Transfer/theguardian.har',\n",
              "  'transferSizes': [1882043, 753166]},\n",
              " {'name': './Data_Transfer/amazon.har', 'transferSizes': [4790135, 4125576]},\n",
              " {'name': './Data_Transfer/fandom.har', 'transferSizes': [7480495, 228782]},\n",
              " {'name': './Data_Transfer/uptodown.har', 'transferSizes': [234363, 16255]},\n",
              " {'name': './Data_Transfer/yelp.har', 'transferSizes': [2264922, 445296]},\n",
              " {'name': './Data_Transfer/apple.har', 'transferSizes': [1489072, 874918]},\n",
              " {'name': './Data_Transfer/yahoo.har', 'transferSizes': [1946457, 216446]},\n",
              " {'name': './Data_Transfer/dominos.har', 'transferSizes': [796001, 1264622]},\n",
              " {'name': './Data_Transfer/globo.har', 'transferSizes': [1297801, 460051]},\n",
              " {'name': './Data_Transfer/playstation.har',\n",
              "  'transferSizes': [7827647, 7251018]},\n",
              " {'name': './Data_Transfer/tripadvisor.har',\n",
              "  'transferSizes': [2457940, 226959]},\n",
              " {'name': './Data_Transfer/dictionary.har', 'transferSizes': [348182, 147684]},\n",
              " {'name': './Data_Transfer/techradar.har', 'transferSizes': [1088850, 810648]},\n",
              " {'name': './Data_Transfer/craiglist.har', 'transferSizes': [799342, 238827]},\n",
              " {'name': './Data_Transfer/espn.har', 'transferSizes': [5384875, 174386]},\n",
              " {'name': './Data_Transfer/blog.google.har',\n",
              "  'transferSizes': [5603221, 5575950]},\n",
              " {'name': './Data_Transfer/cnet.har', 'transferSizes': [2583158, 164723]},\n",
              " {'name': './Data_Transfer/rottentomatoes.har',\n",
              "  'transferSizes': [3994854, 1292257]},\n",
              " {'name': './Data_Transfer/urbandictionary.har',\n",
              "  'transferSizes': [577435, 37702]},\n",
              " {'name': './Data_Transfer/cricbuzz.har', 'transferSizes': [373803, 333212]},\n",
              " {'name': './Data_Transfer/timeanddate.har',\n",
              "  'transferSizes': [365239, 359561]},\n",
              " {'name': './Data_Transfer/google.har', 'transferSizes': [848398, 69207]},\n",
              " {'name': './Data_Transfer/collinsdictionary.har',\n",
              "  'transferSizes': [494518, 561651]},\n",
              " {'name': './Data_Transfer/businessinsider.har',\n",
              "  'transferSizes': [2088491, 102940]},\n",
              " {'name': './Data_Transfer/nytimes.har', 'transferSizes': [7069245, 4124631]},\n",
              " {'name': './Data_Transfer/steampowered.har',\n",
              "  'transferSizes': [28052880, 10056177]},\n",
              " {'name': './Data_Transfer/merriam-webster.har',\n",
              "  'transferSizes': [1447530, 121799]},\n",
              " {'name': './Data_Transfer/reddit.har', 'transferSizes': [4978904, 615950]},\n",
              " {'name': './Data_Transfer/ebay.har', 'transferSizes': [1535789, 336781]},\n",
              " {'name': './Data_Transfer/wikitionary.har',\n",
              "  'transferSizes': [1232756, 535903]},\n",
              " {'name': './Data_Transfer/samsung.har', 'transferSizes': [3379325, 4252359]},\n",
              " {'name': './Data_Transfer/nba.har', 'transferSizes': [3180066, 2798025]},\n",
              " {'name': './Data_Transfer/wikipedia.har',\n",
              "  'transferSizes': [1546008, 1504614]},\n",
              " {'name': './Data_Transfer/thesaurus.har', 'transferSizes': [445462, 154437]},\n",
              " {'name': './Data_Transfer/tymp3.har', 'transferSizes': [756823, 196429]},\n",
              " {'name': './Data_Transfer/unsplash.har', 'transferSizes': [1545267, 863241]},\n",
              " {'name': './Data_Transfer/webmd.har', 'transferSizes': [1797351, 2412900]},\n",
              " {'name': './Data_Transfer/microsoft.har', 'transferSizes': [518744, 197107]},\n",
              " {'name': './Data_Transfer/investopedia.har',\n",
              "  'transferSizes': [896383, 633447]}]"
            ]
          },
          "metadata": {
            "tags": []
          },
          "execution_count": 99
        }
      ]
    },
    {
      "cell_type": "markdown",
      "metadata": {
        "id": "qyJrP3NhJ7Zf",
        "colab_type": "text"
      },
      "source": [
        "## Node.js Proxy consumption"
      ]
    },
    {
      "cell_type": "code",
      "metadata": {
        "id": "uSssX51rJlGX",
        "colab_type": "code",
        "colab": {}
      },
      "source": [
        "proxy_consumption = pd.read_csv('NodeProxy.csv') \n",
        "proxy_consumption[0]"
      ],
      "execution_count": null,
      "outputs": []
    },
    {
      "cell_type": "markdown",
      "metadata": {
        "id": "kzvvGZykKEY4",
        "colab_type": "text"
      },
      "source": [
        "## HTML VM Consumption"
      ]
    },
    {
      "cell_type": "code",
      "metadata": {
        "id": "YKWBlyS1JtQi",
        "colab_type": "code",
        "colab": {}
      },
      "source": [
        "vm_consumption = pd.read_csv('HTML.csv') \n",
        "vm_consumption[0]"
      ],
      "execution_count": null,
      "outputs": []
    },
    {
      "cell_type": "markdown",
      "metadata": {
        "colab_type": "text",
        "id": "kizeGE5I0RcV"
      },
      "source": [
        "## Statistics\n"
      ]
    },
    {
      "cell_type": "markdown",
      "metadata": {
        "id": "quUtLBoNJtyT",
        "colab_type": "text"
      },
      "source": [
        "### Website Carbon"
      ]
    },
    {
      "cell_type": "code",
      "metadata": {
        "colab_type": "code",
        "id": "XwubaN9wxYpu",
        "colab": {
          "base_uri": "https://localhost:8080/",
          "height": 86
        },
        "outputId": "7b33f77a-2436-4a05-c31b-e7654b00e94a"
      },
      "source": [
        "ratios= []\n",
        "diffs = []\n",
        "for entry in data:\n",
        "    ratio = 1 - entry[\"transferSizes\"][ADAPTED] / entry[\"transferSizes\"][NORMAL]\n",
        "    if ratio < 0:\n",
        "        print(entry[\"name\"] + \" : \" + str(ratio))\n",
        "    ratios.append(ratio)\n",
        "    diffs.append(energyConsumption(entry[\"transferSizes\"][NORMAL] - entry[\"transferSizes\"][ADAPTED])*1000*3600)\n",
        "dfRatios = pd.DataFrame(ratios)\n",
        "dfDiffs  = pd.DataFrame(diffs)\n",
        "print(\"\\n\\nRATIOS :\")\n",
        "print(dfRatios.describe())\n",
        "print(\"\\nDIFF(J) :\")\n",
        "print(dfDiffs.describe())\n",
        "\n",
        "sns.distplot(ratios, bins=40, kde=False, rug=True);\n"
      ],
      "execution_count": null,
      "outputs": [
        {
          "output_type": "stream",
          "text": [
            "./Data_Transfer/y2mate.har : -0.44728987803529985\n",
            "./Data_Transfer/dominos.har : -0.5887191096493598\n",
            "./Data_Transfer/collinsdictionary.har : -0.13575441136621924\n",
            "./Data_Transfer/samsung.har : -0.2583456755417133\n",
            "./Data_Transfer/webmd.har : -0.3424756767042163\n",
            "\n",
            "\n",
            "RATIOS :\n",
            "               0\n",
            "count  46.000000\n",
            "mean    0.505218\n",
            "std     0.425706\n",
            "min    -0.588719\n",
            "25%     0.167926\n",
            "50%     0.643521\n",
            "75%     0.885672\n",
            "max     0.969416\n",
            "\n",
            "DIFF(J) :\n",
            "                   0\n",
            "count      46.000000\n",
            "mean    10274.720441\n",
            "std     18616.945587\n",
            "min     -5283.369619\n",
            "25%      1614.315198\n",
            "50%      4074.587175\n",
            "75%     10876.311157\n",
            "max    108911.261050\n"
          ],
          "name": "stdout"
        },
        {
          "output_type": "display_data",
          "data": {
            "image/png": "[encoded data removed]",
            "text/plain": [
              "<Figure size 432x288 with 1 Axes>"
            ]
          },
          "metadata": {
            "tags": [],
            "needs_background": "light"
          }
        }
      ]
    },
    {
      "cell_type": "code",
      "metadata": {
        "id": "eVpW7OBrEcwx",
        "colab_type": "code",
        "colab": {},
        "outputId": "ac9e88d6-ee75-448c-b811-813cf41e265c"
      },
      "source": [
        "control= []\n",
        "test = []\n",
        "for entry in data:\n",
        "    control.append(energyConsumption(entry[\"transferSizes\"][NORMAL])*1000)\n",
        "    test.append(energyConsumption(entry[\"transferSizes\"][ADAPTED])*1000+0.1)\n",
        "dfControl = pd.DataFrame(control)\n",
        "dfTest  = pd.DataFrame(test)\n",
        "print(\"\\n\\nControl Group :\")\n",
        "print(dfControl.describe())\n",
        "print(\"\\nTest Group) :\")\n",
        "print(dfTest.describe())\n",
        "\n",
        "\n",
        "bins = np.linspace(0, 50, 100)\n",
        "\n",
        "plt.hist(control, bins, alpha=0.5, label='x')\n",
        "plt.hist(test, bins, alpha=0.5, label='y')\n",
        "plt.legend(loc='upper right')\n",
        "plt.show()"
      ],
      "execution_count": null,
      "outputs": [
        {
          "output_type": "stream",
          "text": [
            "\n",
            "\n",
            "Control Group :\n",
            "               0\n",
            "count  46.000000\n",
            "mean    5.181394\n",
            "std     7.786924\n",
            "min     0.228108\n",
            "25%     1.339511\n",
            "50%     2.598274\n",
            "75%     5.597031\n",
            "max    47.157936\n",
            "\n",
            "Test Group) :\n",
            "               0\n",
            "count  46.000000\n",
            "mean    2.427305\n",
            "std     3.780085\n",
            "min     0.127325\n",
            "25%     0.430155\n",
            "50%     0.783176\n",
            "75%     2.062100\n",
            "max    17.004808\n"
          ],
          "name": "stdout"
        },
        {
          "output_type": "display_data",
          "data": {
            "image/png": "[encoded data removed]",
            "text/plain": [
              "<Figure size 432x288 with 1 Axes>"
            ]
          },
          "metadata": {
            "tags": [],
            "needs_background": "light"
          }
        }
      ]
    },
    {
      "cell_type": "code",
      "metadata": {
        "id": "-MWKw9dnEcw4",
        "colab_type": "code",
        "colab": {},
        "outputId": "52c8f03a-bcf9-4e93-fde3-2d4c7690d321"
      },
      "source": [
        "sns.distplot(control, hist=False, bins=20, rug=True);\n",
        "sns.distplot(test, hist=False, bins=20, rug=True);"
      ],
      "execution_count": null,
      "outputs": [
        {
          "output_type": "display_data",
          "data": {
            "image/png": "[encoded data removed]",
            "text/plain": [
              "<Figure size 432x288 with 1 Axes>"
            ]
          },
          "metadata": {
            "tags": [],
            "needs_background": "light"
          }
        }
      ]
    },
    {
      "cell_type": "code",
      "metadata": {
        "id": "03jWuP5nEcw-",
        "colab_type": "code",
        "colab": {}
      },
      "source": [
        ""
      ],
      "execution_count": null,
      "outputs": []
    },
    {
      "cell_type": "code",
      "metadata": {
        "id": "gcrPPsYGEcxE",
        "colab_type": "code",
        "colab": {}
      },
      "source": [
        "def cohend(d1, d2):\n",
        "    n1, n2 = len(d1), len(d2)\n",
        "    s1, s2 = np.var(d1, ddof=1), np.var(d2, ddof=1)\n",
        "    s = sqrt(((n1 - 1) * s1 + (n2 - 1) * s2) / (n1 + n2 - 2))\n",
        "    u1, u2 = np.mean(d1), np.mean(d2)\n",
        "    return (u1 - u2) / s"
      ],
      "execution_count": null,
      "outputs": []
    },
    {
      "cell_type": "code",
      "metadata": {
        "id": "qvSgvU_EEcxO",
        "colab_type": "code",
        "colab": {},
        "outputId": "e6403e4c-3ad0-4bbb-979a-839ba22f9d03"
      },
      "source": [
        "print(\"Effect size : \" + str(cohend(control, test)))\n",
        "stats.ttest_ind(a=control,b=test,equal_var=False)"
      ],
      "execution_count": null,
      "outputs": [
        {
          "output_type": "stream",
          "text": [
            "Effect size : 0.44996520938828094\n"
          ],
          "name": "stdout"
        },
        {
          "output_type": "execute_result",
          "data": {
            "text/plain": [
              "Ttest_indResult(statistic=2.157957335578326, pvalue=0.03462585460561946)"
            ]
          },
          "metadata": {
            "tags": []
          },
          "execution_count": 108
        }
      ]
    },
    {
      "cell_type": "code",
      "metadata": {
        "id": "aV5euQRwEcxV",
        "colab_type": "code",
        "colab": {}
      },
      "source": [
        ""
      ],
      "execution_count": null,
      "outputs": []
    }
  ]
}