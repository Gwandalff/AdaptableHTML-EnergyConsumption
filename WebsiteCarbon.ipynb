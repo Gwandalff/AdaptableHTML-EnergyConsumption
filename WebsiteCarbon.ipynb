{
 "cells": [
  {
   "cell_type": "markdown",
   "metadata": {
    "colab_type": "text",
    "id": "Yk8S29I6E0sf"
   },
   "source": [
    "# Dynamically Adaptable Virtual Machines for Sustainable Websites\n",
    "\n",
    "This notebook aim at providing the analysis process of our paper\n",
    "\n",
    "## Imports"
   ]
  },
  {
   "cell_type": "code",
   "execution_count": 68,
   "metadata": {
    "colab": {},
    "colab_type": "code",
    "id": "F4OUiwG1wtvn"
   },
   "outputs": [],
   "source": [
    "import json \n",
    "import glob\n",
    "import pandas as pd\n",
    "import numpy as np\n",
    "import seaborn as sns\n",
    "import matplotlib.pyplot as plt\n",
    "from scipy.stats.mstats import gmean\n",
    "from math import sqrt\n",
    "import scipy.stats as stats\n",
    "import scipy.special as special"
   ]
  },
  {
   "cell_type": "markdown",
   "metadata": {
    "colab_type": "text",
    "id": "6H5f0fcxxiFf"
   },
   "source": [
    "## Website Carbon\n",
    "\n",
    "This script aim to provide the energy consumption and carbon impact of website requests."
   ]
  },
  {
   "cell_type": "markdown",
   "metadata": {
    "colab_type": "text",
    "id": "MS-QfxkVx-IK"
   },
   "source": [
    "### Constants"
   ]
  },
  {
   "cell_type": "code",
   "execution_count": 69,
   "metadata": {
    "colab": {},
    "colab_type": "code",
    "id": "-kdZbI5xwxpB"
   },
   "outputs": [],
   "source": [
    "# Path to the folder containing HAR files\n",
    "HAR_FOLDER = \"./Data_Transfer/\"\n",
    "\n",
    "# Algorithm constants\n",
    "KWG_PER_GB = 1.805\n",
    "KWH_PER_BYTE = KWG_PER_GB / 1073741824\n",
    "J_PER_KWH = 1000 * 3600\n",
    "RETURNING_VISITOR_PERCENTAGE = 0.75\n",
    "FIRST_TIME_VIEWING_PERCENTAGE = 0.25\n",
    "PERCENTAGE_OF_DATA_LOADED_ON_SUBSEQUENT_LOAD = 0.02\n",
    "CARBON_PER_KWG_GRID = 475\n",
    "CARBON_PER_KWG_RENEWABLE = 33.4\n",
    "PERCENTAGE_OF_ENERGY_IN_DATACENTER = 0.1008\n",
    "PERCENTAGE_OF_ENERGY_IN_TRANSMISSION_AND_END_USER = 0.8992\n",
    "CO2_GRAMS_TO_LITRES = 0.5562\n",
    "\n",
    "# Data access constants\n",
    "NORMAL = 0\n",
    "ADAPTED = 1"
   ]
  },
  {
   "cell_type": "markdown",
   "metadata": {
    "colab_type": "text",
    "id": "vgtlUd79yTgs"
   },
   "source": [
    "### Functions\n",
    "\n",
    "adjustDataTranfert : calculate the average transfert size considering caching capacity of web browser\n",
    "\n",
    "energyConsumption : calculate the energy consumption from the tranfert size\n",
    "\n",
    "getCo2Grid : calculate the equivalent CO2 when using a classic host\n",
    "\n",
    "getCo2Renewable : calculate the equivalent CO2 when using a green host\n",
    "\n",
    "co2ToLitres : convert CO2 mass to volume\n",
    "\n",
    "getStatistics : aggregate previous statistics\n",
    "\n",
    "cleanerThan : compare to other sites"
   ]
  },
  {
   "cell_type": "code",
   "execution_count": 70,
   "metadata": {
    "colab": {},
    "colab_type": "code",
    "id": "rDQZlD2Kw1N0"
   },
   "outputs": [],
   "source": [
    "def adjustDataTransfer(val): \n",
    "    out =  val * RETURNING_VISITOR_PERCENTAGE \n",
    "    out += val * PERCENTAGE_OF_DATA_LOADED_ON_SUBSEQUENT_LOAD * FIRST_TIME_VIEWING_PERCENTAGE\n",
    "    return out"
   ]
  },
  {
   "cell_type": "code",
   "execution_count": 71,
   "metadata": {
    "colab": {},
    "colab_type": "code",
    "id": "CHgksoUzw1WT"
   },
   "outputs": [],
   "source": [
    "def energyConsumption(bytes): \n",
    "    return bytes * KWH_PER_BYTE;"
   ]
  },
  {
   "cell_type": "code",
   "execution_count": 72,
   "metadata": {
    "colab": {},
    "colab_type": "code",
    "id": "ZgYd2B9vw1ZJ"
   },
   "outputs": [],
   "source": [
    "def getCo2Grid(energy):\n",
    "    return energy * CARBON_PER_KWG_GRID;"
   ]
  },
  {
   "cell_type": "code",
   "execution_count": 73,
   "metadata": {
    "colab": {},
    "colab_type": "code",
    "id": "RdcFpWrsw1cN"
   },
   "outputs": [],
   "source": [
    "def getCo2Renewable(energy):\n",
    "    out =  energy * PERCENTAGE_OF_ENERGY_IN_DATACENTER * CARBON_PER_KWG_RENEWABLE\n",
    "    out += energy * PERCENTAGE_OF_ENERGY_IN_TRANSMISSION_AND_END_USER * CARBON_PER_KWG_GRID\n",
    "    return out"
   ]
  },
  {
   "cell_type": "code",
   "execution_count": 74,
   "metadata": {
    "colab": {},
    "colab_type": "code",
    "id": "SDxhxliMw1fL"
   },
   "outputs": [],
   "source": [
    "def co2ToLitres(co2):\n",
    "    return co2 * CO2_GRAMS_TO_LITRES;"
   ]
  },
  {
   "cell_type": "code",
   "execution_count": 75,
   "metadata": {
    "colab": {},
    "colab_type": "code",
    "id": "PEcZkvJew1iV"
   },
   "outputs": [],
   "source": [
    "def getStatistics(bytes):\n",
    "    bytesAdjusted = adjustDataTransfer(bytes);\n",
    "    energy = energyConsumption(bytesAdjusted);\n",
    "    co2Grid = getCo2Grid(energy);\n",
    "    co2Renewable = getCo2Renewable(energy);\n",
    "\n",
    "    return {\n",
    "        'adjustedBytes' : bytesAdjusted,\n",
    "        'energy' : energy,\n",
    "        'co2' : {\n",
    "            'grid' : {\n",
    "                'grams' : co2Grid,\n",
    "                'litres': co2ToLitres(co2Grid)\n",
    "            },\n",
    "            'renewable' : {\n",
    "                'grams' : co2Renewable,\n",
    "                'litres' : co2ToLitres(co2Renewable)\n",
    "            }\n",
    "        }\n",
    "    }"
   ]
  },
  {
   "cell_type": "code",
   "execution_count": 76,
   "metadata": {
    "colab": {},
    "colab_type": "code",
    "id": "GGxXra40w1lS"
   },
   "outputs": [],
   "source": [
    "def cleanerThan(co2):\n",
    "    # This array needs to be updated periodically with new data. This was\n",
    "    # originally calculated with a database query but that was too slow at\n",
    "    # scale. We can look in to writing a cron job that will generate and export\n",
    "    # from the database once a month, that is then loaded in this file.\n",
    "\n",
    "    # This array was last generated with rankings/index.php on 27/01/2020\n",
    "    percentiles = [0.00126957622871866,0.004035396817140881,0.012595561048805604,0.023304715095553624,0.036438786824583,0.050362397616329,0.064014899640461,0.077739052678226,0.092126836186624,0.10757047217165,0.125027739890344,0.140696302455872,0.15929047315768,0.177734818869488,0.19581439489964,0.21422507361825607,0.232736823359142,0.246082174332492,0.264348156430992,0.28306902111392,0.30180466482882,0.320295382181204,0.33950686554985604,0.360111566931774,0.38114308483189,0.40185357017186396,0.42035354145420606,0.4393550630164101,0.458541453493762,0.47918906703882,0.499654077413412,0.521285635156174,0.5405494875603221,0.56161428648152,0.58238456980151,0.604316363860106,0.6256429617179278,0.6478269528228661,0.6691073942929641,0.68867154881184,0.7103787320465419,0.7331362414675519,0.7562483364936439,0.780892842691506,0.80396830015467,0.8269877794821401,0.85060546199698,0.874387816802448,0.899691291111552,0.92324242726303,0.9511826145960923,0.976586133398462,1.002258239346,1.02822903453074,1.0566669431626,1.08448123862022,1.1130571798008,1.1446436812039398,1.17548103245766,1.2075157831423,1.2419762271574795,1.27780212823068,1.31343697309996,1.3535322129548801,1.3963404885134,1.43538821676594,1.4786819721653202,1.52287253339568,1.5710404823845998,1.6176354301871,1.6627899659050596,1.71503331661196,1.7731704594157403,1.8271314036959998,1.8888232850004,1.9514501162933802,2.01843049142384,2.08929918752446,2.1680425684300615,2.2538809089543,2.347435716407921,2.44446281762258,2.551568006854039,2.6716183180923796,2.8030676779506,2.947526052684458,3.1029734241542397,3.2801577012624605,3.4659335564053406,3.6858566410374,3.9539822299055203,4.2833358140900835,4.686514950833381,5.167897618200399,5.7413021838327,6.52500051792535,7.628926245040858,9.114465674521588,12.30185529895519,92.584834950345]\n",
    "\n",
    "    for i in range(0, 100):\n",
    "        value = percentiles[i]\n",
    "        if(co2 < value):\n",
    "            return (100 - i)\n",
    "    return 0"
   ]
  },
  {
   "cell_type": "code",
   "execution_count": 77,
   "metadata": {
    "colab": {},
    "colab_type": "code",
    "id": "_Mn0-1CQ6UTz"
   },
   "outputs": [],
   "source": [
    "def printInfo(bytesNb):\n",
    "  stats = getStatistics(bytesNb)\n",
    "  energy = stats[\"energy\"]\n",
    "  grams = stats[\"co2\"][\"grid\"][\"grams\"]\n",
    "  greenerThan = cleanerThan(grams)\n",
    "  if(greenerThan > 50):\n",
    "      print(\"\\033[1;32;48mThis page is cleaner than \" + str(greenerThan) + \"% of web pages tested\\033[00m\")\n",
    "  else:\n",
    "      print(\"\\033[1;31;48mThis page is dirtier than \" + str(99-greenerThan) + \"% of web pages tested\\033[00m\")\n",
    "  print(\"\\033[01m\"+str(round(grams,3)) + \"g of CO2\\033[00m is produced every time someone visits this web page (\"+str(round(energy,4))+\" KWH)\")"
   ]
  },
  {
   "cell_type": "markdown",
   "metadata": {
    "colab_type": "text",
    "id": "IezqIwUHz3RE"
   },
   "source": [
    "### Data\n",
    "\n",
    "Build the datastructure from the HAR files"
   ]
  },
  {
   "cell_type": "code",
   "execution_count": 78,
   "metadata": {
    "colab": {},
    "colab_type": "code",
    "id": "_My6F2BPw1n7",
    "outputId": "b0995c0f-0fd6-463b-d661-130a826a9551"
   },
   "outputs": [],
   "source": [
    "HAR_FILES = glob.glob(HAR_FOLDER+\"*.har\")\n",
    "\n",
    "data = []\n",
    "\n",
    "for HAR_FILE in HAR_FILES:\n",
    "    normal = open(HAR_FILE, \"r\")\n",
    "    adapted = open(HAR_FILE+\".adapted\", \"r\")\n",
    "    if normal.mode == 'r' and adapted.mode == 'r':\n",
    "        contents = normal.read()\n",
    "        jsonObj = json.loads(contents)\n",
    "        normal_bytes = 0\n",
    "        for r in jsonObj[\"log\"][\"entries\"]:\n",
    "            normal_bytes += r[\"response\"][\"bodySize\"]\n",
    "\n",
    "        contents = adapted.read()\n",
    "        jsonObj = json.loads(contents)\n",
    "        adapted_bytes = 0\n",
    "        for r in jsonObj[\"log\"][\"entries\"]:\n",
    "            adapted_bytes += r[\"response\"][\"bodySize\"]\n",
    "      \n",
    "        entry = {\n",
    "            \"name\": HAR_FILE, \n",
    "            \"transferSizes\" : [normal_bytes, adapted_bytes],\n",
    "            \"energy\" : [energyConsumption(normal_bytes) * J_PER_KWH, energyConsumption(adapted_bytes) * J_PER_KWH]\n",
    "        }\n",
    "        data.append(entry)"
   ]
  },
  {
   "cell_type": "markdown",
   "metadata": {
    "colab_type": "text",
    "id": "qyJrP3NhJ7Zf"
   },
   "source": [
    "## Approach consumption\n",
    "\n",
    "\n",
    "\n",
    "### Node.js Proxy consumption"
   ]
  },
  {
   "cell_type": "code",
   "execution_count": 79,
   "metadata": {
    "colab": {},
    "colab_type": "code",
    "id": "uSssX51rJlGX"
   },
   "outputs": [],
   "source": [
    "proxy_consumption = pd.read_csv('./proxy/NodeProxy.csv', header=None) \n",
    "proxy_consumption = proxy_consumption.groupby(0).sum()\n",
    "proxy_consumption = proxy_consumption / 100"
   ]
  },
  {
   "cell_type": "markdown",
   "metadata": {
    "colab_type": "text",
    "id": "kzvvGZykKEY4"
   },
   "source": [
    "### HTML VM Consumption"
   ]
  },
  {
   "cell_type": "code",
   "execution_count": 80,
   "metadata": {
    "colab": {},
    "colab_type": "code",
    "id": "YKWBlyS1JtQi"
   },
   "outputs": [],
   "source": [
    "vm_consumption = pd.read_csv('./proxy/HTML.csv', header=None) \n",
    "vm_consumption = vm_consumption.groupby(0).sum()\n",
    "vm_consumption = vm_consumption / 10"
   ]
  },
  {
   "cell_type": "code",
   "execution_count": 81,
   "metadata": {},
   "outputs": [],
   "source": [
    "approach_consumption = []\n",
    "for index, row in proxy_consumption.iterrows():\n",
    "    parts = index.split(\".\")\n",
    "    entry = { \"name\" : parts[0], \"energy\" : row[1]}\n",
    "    approach_consumption.append(entry)\n",
    "for index, row in vm_consumption.iterrows():\n",
    "    parts = index.split(\".\")\n",
    "    entry = { \"name\" : parts[0], \"energy\" : row[1]}\n",
    "    approach_consumption.append(entry)\n",
    "    \n",
    "approach_consumption = pd.DataFrame(approach_consumption)"
   ]
  },
  {
   "cell_type": "code",
   "execution_count": 82,
   "metadata": {},
   "outputs": [
    {
     "name": "stdout",
     "output_type": "stream",
     "text": [
      "Geometric mean of energy consumption = 68.61082178391608\n"
     ]
    }
   ],
   "source": [
    "approach_consumption = approach_consumption.groupby(\"name\").sum()\n",
    "approach_average_consumption = gmean(approach_consumption.loc[:,\"energy\"])\n",
    "print(\"Geometric mean of energy consumption = \" + str(approach_average_consumption))"
   ]
  },
  {
   "cell_type": "markdown",
   "metadata": {
    "colab_type": "text",
    "id": "kizeGE5I0RcV"
   },
   "source": [
    "## Statistics\n"
   ]
  },
  {
   "cell_type": "code",
   "execution_count": 83,
   "metadata": {},
   "outputs": [],
   "source": [
    "def cohend_1sample(d, expected_mean):\n",
    "    n = len(d)\n",
    "    s= np.std(d, ddof=(n-1))\n",
    "    return (np.mean(d) - expected_mean) / s"
   ]
  },
  {
   "cell_type": "markdown",
   "metadata": {
    "colab_type": "text",
    "id": "quUtLBoNJtyT"
   },
   "source": [
    "### Website Carbon"
   ]
  },
  {
   "cell_type": "code",
   "execution_count": 99,
   "metadata": {
    "colab": {
     "base_uri": "https://localhost:8080/",
     "height": 86
    },
    "colab_type": "code",
    "id": "XwubaN9wxYpu",
    "outputId": "7b33f77a-2436-4a05-c31b-e7654b00e94a"
   },
   "outputs": [
    {
     "name": "stdout",
     "output_type": "stream",
     "text": [
      "./Data_Transfer/y2mate.har : -0.08677476648909965\n",
      "./Data_Transfer/genius.har : 0.8624504306315708\n",
      "./Data_Transfer/britannica.har : 0.9283621885808455\n",
      "./Data_Transfer/spanishdict.har : 0.9074974863499278\n",
      "./Data_Transfer/dailymail.har : 0.9001955972857368\n",
      "./Data_Transfer/premierleague.har : 0.7248139078801875\n",
      "./Data_Transfer/espncricinfo.har : 0.7599236450974477\n",
      "./Data_Transfer/theguardian.har : 0.5611738517747926\n",
      "./Data_Transfer/amazon.har : 0.09654623123999273\n",
      "./Data_Transfer/fandom.har : 0.9288959718128857\n",
      "./Data_Transfer/uptodown.har : 0.9681865052409672\n",
      "./Data_Transfer/yelp.har : 0.7262748963057455\n",
      "./Data_Transfer/apple.har : 0.35446465120392023\n",
      "./Data_Transfer/yahoo.har : 0.9066042633576699\n",
      "./Data_Transfer/globo.har : 0.7889168964224141\n",
      "./Data_Transfer/playstation.har : 0.10924049432464122\n",
      "./Data_Transfer/tripadvisor.har : 0.9502624908658479\n",
      "./Data_Transfer/dictionary.har : 0.9186287386460963\n",
      "./Data_Transfer/techradar.har : 0.09801245305426809\n",
      "./Data_Transfer/craiglist.har : 0.7368966043797374\n",
      "./Data_Transfer/espn.har : 0.9278444043100721\n",
      "./Data_Transfer/blog.google.har : 0.0029039333104078358\n",
      "./Data_Transfer/cnet.har : 0.9597697215234957\n",
      "./Data_Transfer/ytmp3.har : 0.7334933102845678\n",
      "./Data_Transfer/rottentomatoes.har : 0.7332986386619709\n",
      "./Data_Transfer/urbandictionary.har : 0.4993728864623095\n",
      "./Data_Transfer/cricbuzz.har : 0.7612020508684165\n",
      "./Data_Transfer/timeanddate.har : 0.5534602591586522\n",
      "./Data_Transfer/google.har : 0.9286466573418599\n",
      "./Data_Transfer/collinsdictionary.har : 0.6490419597068768\n",
      "./Data_Transfer/businessinsider.har : 0.9715948949540087\n",
      "./Data_Transfer/nytimes.har : 0.4780709146415566\n",
      "./Data_Transfer/steampowered.har : 0.8416282956771437\n",
      "./Data_Transfer/merriam-webster.har : 0.8778475970769947\n",
      "./Data_Transfer/reddit.har : 0.926285825260249\n",
      "./Data_Transfer/ebay.har : 0.7738106471914337\n",
      "./Data_Transfer/wikitionary.har : -0.05126332876748063\n",
      "./Data_Transfer/samsung.har : 0.29490097326807285\n",
      "./Data_Transfer/nba.har : 0.3368848478680585\n",
      "./Data_Transfer/wikipedia.har : 0.01755128785427207\n",
      "./Data_Transfer/thesaurus.har : 0.9438100843057541\n",
      "./Data_Transfer/unsplash.har : 0.5557426458460382\n",
      "./Data_Transfer/webmd.har : 0.5630958547016764\n",
      "./Data_Transfer/microsoft.har : 0.6446405456732518\n",
      "./Data_Transfer/investopedia.har : 0.6461608867869689\n",
      "\n",
      "\n",
      "RATIOS :\n",
      "               0\n",
      "count  45.000000\n",
      "mean    0.638008\n",
      "std     0.319939\n",
      "min    -0.086775\n",
      "25%     0.499373\n",
      "50%     0.733493\n",
      "75%     0.907497\n",
      "max     0.971595\n",
      "\n",
      "DIFF(J) :\n",
      "                  0\n",
      "count     45.000000\n",
      "mean   17894.929802\n",
      "std    18586.842523\n",
      "min     -161.492837\n",
      "25%     4557.135009\n",
      "50%    12996.272146\n",
      "75%    25394.326638\n",
      "max    82416.827410\n"
     ]
    },
    {
     "data": {
      "image/png": "[encoded data removed]",
      "text/plain": [
       "<Figure size 432x288 with 1 Axes>"
      ]
     },
     "metadata": {
      "needs_background": "light"
     },
     "output_type": "display_data"
    }
   ],
   "source": [
    "ratios= []\n",
    "diffs = []\n",
    "for entry in data:\n",
    "    ratio = 1 - (entry[\"energy\"][ADAPTED] + approach_average_consumption) / entry[\"energy\"][NORMAL]\n",
    "    #if ratio < 0:\n",
    "    print(entry[\"name\"] + \" : \" + str(ratio))\n",
    "    ratios.append(ratio)\n",
    "    diffs.append(entry[\"energy\"][NORMAL] - entry[\"energy\"][ADAPTED] - approach_average_consumption)\n",
    "dfRatios = pd.DataFrame(ratios)\n",
    "dfDiffs  = pd.DataFrame(diffs)\n",
    "print(\"\\n\\nRATIOS :\")\n",
    "print(dfRatios.describe())\n",
    "print(\"\\nDIFF(J) :\")\n",
    "print(dfDiffs.describe())\n",
    "\n",
    "sns.distplot(ratios, norm_hist=True);\n"
   ]
  },
  {
   "cell_type": "code",
   "execution_count": 104,
   "metadata": {},
   "outputs": [
    {
     "data": {
      "text/plain": [
       "<matplotlib.axes._subplots.AxesSubplot at 0x7f62d301dd10>"
      ]
     },
     "execution_count": 104,
     "metadata": {},
     "output_type": "execute_result"
    },
    {
     "data": {
      "image/png": "[encoded data removed]",
      "text/plain": [
       "<Figure size 432x288 with 1 Axes>"
      ]
     },
     "metadata": {
      "needs_background": "light"
     },
     "output_type": "display_data"
    }
   ],
   "source": [
    "sns.violinplot(y=ratios, cut=0)"
   ]
  },
  {
   "cell_type": "code",
   "execution_count": 85,
   "metadata": {},
   "outputs": [
    {
     "name": "stdout",
     "output_type": "stream",
     "text": [
      "Estimated mean : 0.6380081851540493 with p-value : 4.155311923174705e-17\n",
      "Confidence interval : [0.5418878756441818, 0.7341284946639168] delta = 0.0961203095098675\n",
      "Effect size (Cohen's d) : 0.3006303071691179\n"
     ]
    }
   ],
   "source": [
    "t, p = stats.ttest_1samp(a=ratios, popmean=0)\n",
    "mean = np.mean(ratios)\n",
    "lo, hi = stats.t.interval(0.95, df=(len(ratios) - 1), loc=mean, scale=stats.sem(ratios))\n",
    "print(\"Estimated mean : \" + str(mean) + \" with p-value : \" + str(p))\n",
    "print(\"Confidence interval : [\" + str(lo) + \", \" + str(hi) + \"] delta = \" + str(mean - lo))\n",
    "print(\"Effect size (Cohen's d) : \" + str(cohend_1sample(ratios, 0)))"
   ]
  },
  {
   "cell_type": "code",
   "execution_count": 86,
   "metadata": {},
   "outputs": [
    {
     "name": "stdout",
     "output_type": "stream",
     "text": [
      "Estimated mean : 17894.929801553117 with p-value : 7.140212245790405e-08\n",
      "Confidence interval : [12310.824126676936, 23479.035476429297] delta = 5584.10567487618\n",
      "Effect size (Cohen's d) : 0.14514365037925192\n"
     ]
    }
   ],
   "source": [
    "t, p = stats.ttest_1samp(a=diffs, popmean=0)\n",
    "mean = np.mean(diffs)\n",
    "lo, hi = stats.t.interval(0.95, df=(len(diffs) - 1), loc=mean, scale=stats.sem(diffs))\n",
    "print(\"Estimated mean : \" + str(mean) + \" with p-value : \" + str(p))\n",
    "print(\"Confidence interval : [\" + str(lo) + \", \" + str(hi) + \"] delta = \" + str(mean - lo))\n",
    "print(\"Effect size (Cohen's d) : \" + str(cohend_1sample(diffs, 0)))"
   ]
  },
  {
   "cell_type": "code",
   "execution_count": 87,
   "metadata": {
    "colab": {},
    "colab_type": "code",
    "id": "eVpW7OBrEcwx",
    "outputId": "ac9e88d6-ee75-448c-b811-813cf41e265c"
   },
   "outputs": [
    {
     "name": "stdout",
     "output_type": "stream",
     "text": [
      "\n",
      "\n",
      "Control Group :\n",
      "                   0\n",
      "count      45.000000\n",
      "mean    25762.320914\n",
      "std     21795.906832\n",
      "min      1225.022273\n",
      "25%     10053.600602\n",
      "50%     25756.101614\n",
      "75%     29630.597278\n",
      "max    113707.568955\n",
      "0    3249.141954\n",
      "dtype: float64\n",
      "\n",
      "Test Group :\n",
      "                  0\n",
      "count     45.000000\n",
      "mean    7867.391112\n",
      "std     9773.922140\n",
      "min      348.576144\n",
      "25%     1876.875020\n",
      "50%     3642.946527\n",
      "75%     9453.397979\n",
      "max    43804.898555\n",
      "0    1457.010287\n",
      "dtype: float64\n"
     ]
    },
    {
     "data": {
      "image/png": "[encoded data removed]",
      "text/plain": [
       "<Figure size 432x288 with 1 Axes>"
      ]
     },
     "metadata": {
      "needs_background": "light"
     },
     "output_type": "display_data"
    }
   ],
   "source": [
    "control= []\n",
    "test = []\n",
    "for entry in data:\n",
    "    control.append(entry[\"energy\"][NORMAL])\n",
    "    test.append(entry[\"energy\"][ADAPTED] + approach_average_consumption)\n",
    "dfControl = pd.DataFrame(control)\n",
    "dfTest  = pd.DataFrame(test)\n",
    "print(\"\\n\\nControl Group :\")\n",
    "print(dfControl.describe())\n",
    "print(dfControl.sem())\n",
    "print(\"\\nTest Group :\")\n",
    "print(dfTest.describe())\n",
    "print(dfTest.sem())\n",
    "\n",
    "\n",
    "bins = np.linspace(100, 200000, 100)\n",
    "\n",
    "plt.hist(test, bins, alpha=0.5, label='test')\n",
    "plt.hist(control, bins, alpha=0.5, label='control')\n",
    "plt.legend(loc='upper right')\n",
    "plt.show()"
   ]
  },
  {
   "cell_type": "code",
   "execution_count": 88,
   "metadata": {
    "colab": {},
    "colab_type": "code",
    "id": "-MWKw9dnEcw4",
    "outputId": "52c8f03a-bcf9-4e93-fde3-2d4c7690d321"
   },
   "outputs": [
    {
     "data": {
      "image/png": "[encoded data removed]",
      "text/plain": [
       "<Figure size 432x288 with 1 Axes>"
      ]
     },
     "metadata": {
      "needs_background": "light"
     },
     "output_type": "display_data"
    }
   ],
   "source": [
    "sns.distplot(test, hist=False, bins=20, rug=True);\n",
    "sns.distplot(control, hist=False, bins=20, rug=True);"
   ]
  },
  {
   "cell_type": "code",
   "execution_count": 89,
   "metadata": {
    "colab": {},
    "colab_type": "code",
    "id": "gcrPPsYGEcxE"
   },
   "outputs": [],
   "source": [
    "def cohend(d1, d2):\n",
    "    n1, n2 = len(d1), len(d2)\n",
    "    s1, s2 = np.var(d1, ddof=1), np.var(d2, ddof=1)\n",
    "    s = sqrt(((n1 - 1) * s1 + (n2 - 1) * s2) / (n1 + n2 - 2))\n",
    "    u1, u2 = np.mean(d1), np.mean(d2)\n",
    "    return (u1 - u2) / s"
   ]
  },
  {
   "cell_type": "code",
   "execution_count": 90,
   "metadata": {
    "colab": {},
    "colab_type": "code",
    "id": "qvSgvU_EEcxO",
    "outputId": "e6403e4c-3ad0-4bbb-979a-839ba22f9d03"
   },
   "outputs": [
    {
     "name": "stdout",
     "output_type": "stream",
     "text": [
      "Effect size : 1.0594549561745572\n"
     ]
    },
    {
     "data": {
      "text/plain": [
       "Ttest_indResult(statistic=5.025436109798207, pvalue=4.676455520870763e-06)"
      ]
     },
     "execution_count": 90,
     "metadata": {},
     "output_type": "execute_result"
    }
   ],
   "source": [
    "print(\"Effect size : \" + str(cohend(control, test)))\n",
    "stats.ttest_ind(a=control,b=test,equal_var=False)"
   ]
  },
  {
   "cell_type": "code",
   "execution_count": 91,
   "metadata": {
    "colab": {},
    "colab_type": "code",
    "id": "aV5euQRwEcxV"
   },
   "outputs": [],
   "source": [
    "def fieller(d1, d2, p):\n",
    "    a, b = np.mean(d1), np.mean(d2)\n",
    "    sa, sb = pd.DataFrame(d1).sem().get(0), pd.DataFrame(d2).sem().get(0)\n",
    "    (r, _) = stats.pearsonr(d1, d2)\n",
    "    t = special.stdtrit(len(d1) + len(d2) - 2, 1-p)\n",
    "\n",
    "    cov = np.cov([d1,d2])\n",
    "    print(cov)\n",
    "    \n",
    "    va = sa * sa\n",
    "    vb = sb * sb\n",
    "    cov = r * sa * sb\n",
    "    s2 = va/(b*b) - (2*a)/(b*b*b)*cov + (a*a)/(b*b*b*b)*vb\n",
    "    s = sqrt(s2)\n",
    "    g = t * t * s2 * vb /(b * b)\n",
    "    \n",
    "    \n",
    "    ratio = a / b\n",
    "    ratio2 = ratio * ratio\n",
    "    \n",
    "    factor = 1 / (1 - g)\n",
    "    base = ratio - g * cov/vb\n",
    "    \n",
    "    \n",
    "    two  = 2.0 * ratio * cov\n",
    "    sqr  = ratio2 * vb\n",
    "    gfac = g * (va - cov * cov / vb)\n",
    "    sqrt_under = va - two + sqr - gfac\n",
    "    delt = (t * s / b) * sqrt(sqrt_under)\n",
    "\n",
    "    low  = factor * (base - delt)\n",
    "    high = factor * (base + delt)\n",
    "\n",
    "    return (low, high)"
   ]
  },
  {
   "cell_type": "code",
   "execution_count": 92,
   "metadata": {
    "colab": {},
    "colab_type": "code",
    "id": "03jWuP5nEcw-"
   },
   "outputs": [
    {
     "name": "stdout",
     "output_type": "stream",
     "text": [
      "[[9.55295540e+07 1.12560197e+08]\n",
      " [1.12560197e+08 4.75061555e+08]]\n"
     ]
    },
    {
     "data": {
      "text/plain": [
       "(0.30143399054109415, 0.3093475950639981)"
      ]
     },
     "execution_count": 92,
     "metadata": {},
     "output_type": "execute_result"
    }
   ],
   "source": [
    "fieller(test, control, 0.05)"
   ]
  },
  {
   "cell_type": "code",
   "execution_count": null,
   "metadata": {},
   "outputs": [],
   "source": []
  }
 ],
 "metadata": {
  "colab": {
   "collapsed_sections": [],
   "name": "WebsiteCarbon.ipynb",
   "provenance": []
  },
  "kernelspec": {
   "display_name": "Python 3",
   "language": "python",
   "name": "python3"
  },
  "language_info": {
   "codemirror_mode": {
    "name": "ipython",
    "version": 3
   },
   "file_extension": ".py",
   "mimetype": "text/x-python",
   "name": "python",
   "nbconvert_exporter": "python",
   "pygments_lexer": "ipython3",
   "version": "3.7.4"
  }
 },
 "nbformat": 4,
 "nbformat_minor": 1
}
